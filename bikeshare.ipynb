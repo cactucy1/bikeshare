{
 "cells": [
  {
   "cell_type": "code",
   "execution_count": 47,
   "metadata": {
    "collapsed": true
   },
   "outputs": [],
   "source": [
    "import numpy as np\n",
    "import csv\n",
    "import pandas as pd"
   ]
  },
  {
   "cell_type": "code",
   "execution_count": 48,
   "metadata": {
    "collapsed": false
   },
   "outputs": [
    {
     "name": "stdout",
     "output_type": "stream",
     "text": [
      "   duration_sec                start_time                  end_time  \\\n",
      "0         80110  2017-12-31 16:57:39.6540  2018-01-01 15:12:50.2450   \n",
      "1         78800  2017-12-31 15:56:34.8420  2018-01-01 13:49:55.6170   \n",
      "2         45768  2017-12-31 22:45:48.4110  2018-01-01 11:28:36.8830   \n",
      "3         62172  2017-12-31 17:31:10.6360  2018-01-01 10:47:23.5310   \n",
      "4         43603  2017-12-31 14:23:14.0010  2018-01-01 02:29:57.5710   \n",
      "\n",
      "   start_station_id                                 start_station_name  \\\n",
      "0                74                              Laguna St at Hayes St   \n",
      "1               284  Yerba Buena Center for the Arts (Howard St at ...   \n",
      "2               245                             Downtown Berkeley BART   \n",
      "3                60                               8th St at Ringold St   \n",
      "4               239                      Bancroft Way at Telegraph Ave   \n",
      "\n",
      "   start_station_latitude  start_station_longitude  end_station_id  \\\n",
      "0               37.776435              -122.426244              43   \n",
      "1               37.784872              -122.400876              96   \n",
      "2               37.870348              -122.267764             245   \n",
      "3               37.774520              -122.409449               5   \n",
      "4               37.868813              -122.258764             247   \n",
      "\n",
      "                                    end_station_name  end_station_latitude  \\\n",
      "0  San Francisco Public Library (Grove St at Hyde...             37.778768   \n",
      "1                              Dolores St at 15th St             37.766210   \n",
      "2                             Downtown Berkeley BART             37.870348   \n",
      "3       Powell St BART Station (Market St at 5th St)             37.783899   \n",
      "4                          Fulton St at Bancroft Way             37.867789   \n",
      "\n",
      "   end_station_longitude  bike_id   user_type  member_birth_year member_gender  \n",
      "0            -122.415929       96    Customer             1987.0          Male  \n",
      "1            -122.426614       88    Customer             1965.0        Female  \n",
      "2            -122.267764     1094    Customer                NaN           NaN  \n",
      "3            -122.408445     2831    Customer                NaN           NaN  \n",
      "4            -122.265896     3167  Subscriber             1997.0        Female  \n"
     ]
    }
   ],
   "source": [
    "data=pd.read_csv(\"2017-fordgobike-tripdata.csv\")\n",
    "print(data[:5])"
   ]
  },
  {
   "cell_type": "markdown",
   "metadata": {},
   "source": [
    "f=open(\"2017-fordgobike-tripdata.csv\",\"r\")\n",
    "print(all_ages.head(5),recent_grads.head(5))data=list(csv.reader(f))\n",
    "header=data[0]\n",
    "data=data[1:]\n",
    "print(header)\n",
    "print(data[:5])"
   ]
  },
  {
   "cell_type": "code",
   "execution_count": 54,
   "metadata": {
    "collapsed": false
   },
   "outputs": [
    {
     "ename": "AttributeError",
     "evalue": "'Series' object has no attribute 'items'",
     "output_type": "error",
     "traceback": [
      "\u001b[0;31m---------------------------------------------------------------------------\u001b[0m",
      "\u001b[0;31mAttributeError\u001b[0m                            Traceback (most recent call last)",
      "\u001b[0;32m<ipython-input-54-07f9ad0a90ce>\u001b[0m in \u001b[0;36m<module>\u001b[0;34m()\u001b[0m\n\u001b[1;32m     11\u001b[0m \u001b[0;34m\u001b[0m\u001b[0m\n\u001b[1;32m     12\u001b[0m \u001b[0;32mimport\u001b[0m \u001b[0mmatplotlib\u001b[0m\u001b[0;34m.\u001b[0m\u001b[0mpylab\u001b[0m \u001b[0;32mas\u001b[0m \u001b[0mplt\u001b[0m\u001b[0;34m\u001b[0m\u001b[0m\n\u001b[0;32m---> 13\u001b[0;31m \u001b[0mplt\u001b[0m\u001b[0;34m.\u001b[0m\u001b[0mplot\u001b[0m\u001b[0;34m(\u001b[0m\u001b[0;34m*\u001b[0m\u001b[0mzip\u001b[0m\u001b[0;34m(\u001b[0m\u001b[0;34m*\u001b[0m\u001b[0msorted\u001b[0m\u001b[0;34m(\u001b[0m\u001b[0mage_list\u001b[0m\u001b[0;34m.\u001b[0m\u001b[0mitems\u001b[0m\u001b[0;34m(\u001b[0m\u001b[0;34m)\u001b[0m\u001b[0;34m)\u001b[0m\u001b[0;34m)\u001b[0m\u001b[0;34m)\u001b[0m\u001b[0;34m\u001b[0m\u001b[0m\n\u001b[0m\u001b[1;32m     14\u001b[0m \u001b[0mplt\u001b[0m\u001b[0;34m.\u001b[0m\u001b[0mshow\u001b[0m\u001b[0;34m(\u001b[0m\u001b[0;34m)\u001b[0m\u001b[0;34m\u001b[0m\u001b[0m\n\u001b[1;32m     15\u001b[0m \u001b[0;34m\u001b[0m\u001b[0m\n",
      "\u001b[0;32m/Users/wayuan/anaconda/lib/python2.7/site-packages/pandas/core/generic.pyc\u001b[0m in \u001b[0;36m__getattr__\u001b[0;34m(self, name)\u001b[0m\n\u001b[1;32m   2666\u001b[0m         if (name in self._internal_names_set or name in self._metadata or\n\u001b[1;32m   2667\u001b[0m                 name in self._accessors):\n\u001b[0;32m-> 2668\u001b[0;31m             \u001b[0;32mreturn\u001b[0m \u001b[0mobject\u001b[0m\u001b[0;34m.\u001b[0m\u001b[0m__getattribute__\u001b[0m\u001b[0;34m(\u001b[0m\u001b[0mself\u001b[0m\u001b[0;34m,\u001b[0m \u001b[0mname\u001b[0m\u001b[0;34m)\u001b[0m\u001b[0;34m\u001b[0m\u001b[0m\n\u001b[0m\u001b[1;32m   2669\u001b[0m         \u001b[0;32melse\u001b[0m\u001b[0;34m:\u001b[0m\u001b[0;34m\u001b[0m\u001b[0m\n\u001b[1;32m   2670\u001b[0m             \u001b[0;32mif\u001b[0m \u001b[0mname\u001b[0m \u001b[0;32min\u001b[0m \u001b[0mself\u001b[0m\u001b[0;34m.\u001b[0m\u001b[0m_info_axis\u001b[0m\u001b[0;34m:\u001b[0m\u001b[0;34m\u001b[0m\u001b[0m\n",
      "\u001b[0;31mAttributeError\u001b[0m: 'Series' object has no attribute 'items'"
     ]
    }
   ],
   "source": [
    "start_station_count=dict()\n",
    "station_unique=data[\"start_station_name\"].unique()\n",
    "\n",
    "def age(row):\n",
    "    birthyear = row['member_birth_year']\n",
    "    if pd.isnull(birthyear):\n",
    "        return \"Unknown\"\n",
    "    else:\n",
    "        return 2018-int(birthyear)\n",
    "age_list= data.apply(age, axis=1)\n",
    "\n",
    "import matplotlib.pylab as plt\n",
    "plt.plot(*zip(*sorted(age_list.items())))\n",
    "Series.plot.bar(**kwds)\n",
    "plt.show()\n",
    "\n",
    "\n"
   ]
  },
  {
   "cell_type": "markdown",
   "metadata": {},
   "source": [
    "def column_unique(data, index):\n",
    "    column_unique={}\n",
    "    for row in data:\n",
    "        if row[index] in column_unique:\n",
    "            column_unique[row[index]]+=1\n",
    "        else:\n",
    "            column_unique[row[index]]=1\n",
    "    return column_unique\n",
    "bike_id_unique=column_unique(data,11)\n",
    "print(len(bike_id_unique))\n",
    "print(len(data))\n",
    "gender_unique=column_unique(data,14)\n",
    "print(gender_unique)\n",
    "birthyear_unique=column_unique(data,13)\n",
    "age_list={}\n",
    "for i,k in birthyear_unique.iteritems():\n",
    "    try:\n",
    "        age = 2018-int(i)\n",
    "    except:\n",
    "        continue\n",
    "    age_list[age]=k\n",
    "\n",
    "import matplotlib.pylab as plt\n",
    "plt.plot(*zip(*sorted(age_list.items())))\n",
    "plt.show()\n"
   ]
  },
  {
   "cell_type": "code",
   "execution_count": 41,
   "metadata": {
    "collapsed": false
   },
   "outputs": [
    {
     "ename": "KeyboardInterrupt",
     "evalue": "",
     "output_type": "error",
     "traceback": [
      "\u001b[0;31m---------------------------------------------------------------------------\u001b[0m",
      "\u001b[0;31mKeyboardInterrupt\u001b[0m                         Traceback (most recent call last)",
      "\u001b[0;32m<ipython-input-41-f978f11c95e0>\u001b[0m in \u001b[0;36m<module>\u001b[0;34m()\u001b[0m\n\u001b[1;32m      9\u001b[0m \u001b[0mstation_location\u001b[0m\u001b[0;34m=\u001b[0m\u001b[0;34m[\u001b[0m\u001b[0;34m]\u001b[0m\u001b[0;34m\u001b[0m\u001b[0m\n\u001b[1;32m     10\u001b[0m \u001b[0;32mfor\u001b[0m \u001b[0mrow\u001b[0m \u001b[0;32min\u001b[0m \u001b[0mdata\u001b[0m\u001b[0;34m:\u001b[0m\u001b[0;34m\u001b[0m\u001b[0m\n\u001b[0;32m---> 11\u001b[0;31m     \u001b[0;32mif\u001b[0m \u001b[0mrow\u001b[0m\u001b[0;34m[\u001b[0m\u001b[0;36m4\u001b[0m\u001b[0;34m]\u001b[0m \u001b[0;32mnot\u001b[0m \u001b[0;32min\u001b[0m \u001b[0mstation_location\u001b[0m\u001b[0;34m:\u001b[0m\u001b[0;34m\u001b[0m\u001b[0m\n\u001b[0m\u001b[1;32m     12\u001b[0m         \u001b[0mstation_location\u001b[0m\u001b[0;34m.\u001b[0m\u001b[0mappend\u001b[0m\u001b[0;34m(\u001b[0m\u001b[0mrow\u001b[0m\u001b[0;34m[\u001b[0m\u001b[0;36m5\u001b[0m\u001b[0;34m]\u001b[0m\u001b[0;34m)\u001b[0m\u001b[0;34m\u001b[0m\u001b[0m\n\u001b[1;32m     13\u001b[0m         \u001b[0mstation_location\u001b[0m\u001b[0;34m.\u001b[0m\u001b[0mappend\u001b[0m\u001b[0;34m(\u001b[0m\u001b[0mrow\u001b[0m\u001b[0;34m[\u001b[0m\u001b[0;36m6\u001b[0m\u001b[0;34m]\u001b[0m\u001b[0;34m)\u001b[0m\u001b[0;34m\u001b[0m\u001b[0m\n",
      "\u001b[0;31mKeyboardInterrupt\u001b[0m: "
     ]
    }
   ],
   "source": [
    "start_station=column_unique(data,4)\n",
    "end_station=column_unique(data,8)\n",
    "station_count={}\n",
    "for i in start_station:\n",
    "    station_count[i]=(start_station[i],end_station[i])\n",
    "station_difference={}\n",
    "for i in start_station:\n",
    "    station_difference[i]=start_station[i]-end_station[i]\n",
    "station_location=[]\n",
    "for row in data:\n",
    "    if row[4] not in station_location:\n",
    "        station_location.append(row[5])\n",
    "        station_location.append(row[6])\n",
    "print(station_location)"
   ]
  },
  {
   "cell_type": "code",
   "execution_count": 27,
   "metadata": {
    "collapsed": false,
    "scrolled": false
   },
   "outputs": [
    {
     "data": {
      "image/png": "[encoded data removed]",
      "text/plain": [
       "<matplotlib.figure.Figure at 0x137094a90>"
      ]
     },
     "metadata": {},
     "output_type": "display_data"
    }
   ],
   "source": [
    "import matplotlib.cm\n",
    " \n",
    "from mpl_toolkits.basemap import Basemap\n",
    "from matplotlib.patches import Polygon\n",
    "from matplotlib.collections import PatchCollection\n",
    "from matplotlib.colors import Normalize\n",
    "\n",
    "fig,ax=plt.subplots(figsize=(10,10))\n",
    "\n",
    "m=Basemap(resolution='l', # c, l, i, h, f or None\n",
    "            projection='merc',\n",
    "            lat_0=37.76, lon_0=-122.44,\n",
    "            llcrnrlon=-122.54, llcrnrlat= 37.689, urcrnrlon=-122.351, urcrnrlat=37.815)\n",
    "m.drawmapboundary(fill_color='#46bcec')\n",
    "m.fillcontinents(color='#f2f2f2',lake_color='#46bcec')\n",
    "m.drawcoastlines()\n",
    "plt.show()\n"
   ]
  },
  {
   "cell_type": "code",
   "execution_count": 39,
   "metadata": {
    "collapsed": false
   },
   "outputs": [
    {
     "ename": "AttributeError",
     "evalue": "'dict' object has no attribute 'pos'",
     "output_type": "error",
     "traceback": [
      "\u001b[0;31m---------------------------------------------------------------------------\u001b[0m",
      "\u001b[0;31mAttributeError\u001b[0m                            Traceback (most recent call last)",
      "\u001b[0;32m<ipython-input-39-1af2732b6a65>\u001b[0m in \u001b[0;36m<module>\u001b[0;34m()\u001b[0m\n\u001b[1;32m      5\u001b[0m     \u001b[0mm\u001b[0m\u001b[0;34m.\u001b[0m\u001b[0mplot\u001b[0m\u001b[0;34m(\u001b[0m\u001b[0mx\u001b[0m\u001b[0;34m,\u001b[0m \u001b[0my\u001b[0m\u001b[0;34m,\u001b[0m \u001b[0;34m'o'\u001b[0m\u001b[0;34m,\u001b[0m \u001b[0mmarkersize\u001b[0m\u001b[0;34m=\u001b[0m\u001b[0msize\u001b[0m\u001b[0;34m,\u001b[0m \u001b[0mcolor\u001b[0m\u001b[0;34m=\u001b[0m\u001b[0;34m'#444444'\u001b[0m\u001b[0;34m,\u001b[0m \u001b[0malpha\u001b[0m\u001b[0;34m=\u001b[0m\u001b[0;36m0.8\u001b[0m\u001b[0;34m)\u001b[0m\u001b[0;34m\u001b[0m\u001b[0m\n\u001b[1;32m      6\u001b[0m \u001b[0;34m\u001b[0m\u001b[0m\n\u001b[0;32m----> 7\u001b[0;31m \u001b[0mstation_difference\u001b[0m\u001b[0;34m.\u001b[0m\u001b[0mpos\u001b[0m\u001b[0;34m.\u001b[0m\u001b[0mapply\u001b[0m\u001b[0;34m(\u001b[0m\u001b[0mplot_area\u001b[0m\u001b[0;34m)\u001b[0m\u001b[0;34m\u001b[0m\u001b[0m\n\u001b[0m",
      "\u001b[0;31mAttributeError\u001b[0m: 'dict' object has no attribute 'pos'"
     ]
    }
   ],
   "source": [
    "def plot_area(pos):\n",
    "    count = station_difference[pos]\n",
    "    x, y = m(station_location[pos][0], station_location[pos][1])\n",
    "    size = (count/1000) ** 2 + 3\n",
    "    m.plot(x, y, 'o', markersize=size, color='#444444', alpha=0.8)\n",
    "    \n",
    "station_difference.pos.apply(plot_area)\n"
   ]
  },
  {
   "cell_type": "code",
   "execution_count": 57,
   "metadata": {
    "collapsed": false
   },
   "outputs": [
    {
     "name": "stdout",
     "output_type": "stream",
     "text": [
      "15\n"
     ]
    }
   ],
   "source": [
    "def binary_array_to_number(arr):\n",
    "    binary=0\n",
    "    for i,j in enumerate(arr):\n",
    "        value=2**(len(arr)-(i+1))*j\n",
    "        binary=binary+value\n",
    "    return binary\n",
    "print(binary_array_to_number([1,1,1,1]))\n",
    " "
   ]
  },
  {
   "cell_type": "code",
   "execution_count": 103,
   "metadata": {
    "collapsed": false
   },
   "outputs": [
    {
     "name": "stdout",
     "output_type": "stream",
     "text": [
      "6\n"
     ]
    }
   ],
   "source": [
    "def replace_zero(arr):\n",
    "    length=0\n",
    "    longest=0\n",
    "    trigger=0\n",
    "    ind=-1\n",
    "    position=0\n",
    "    for i,k in enumerate(arr):\n",
    "        if k==1:\n",
    "            length+=1\n",
    "            if length>=longest:\n",
    "                longest=length\n",
    "                position=ind\n",
    "            #print(length,longest,ind,position,trigger)        \n",
    "        if k==0 and trigger==0:\n",
    "            length+=1\n",
    "            longest=length\n",
    "            trigger=1\n",
    "            ind=i\n",
    "            position = i\n",
    "            #print(length,longest,ind,position,trigger)   \n",
    "        if k==0 and trigger==1:\n",
    "            if length>=longest:\n",
    "                longest=length\n",
    "                position=ind\n",
    "                #trigger=0\n",
    "                ind=i\n",
    "                length=i-ind\n",
    "            else:\n",
    "                length=i-ind\n",
    "                #trigger=0\n",
    "                ind=i\n",
    "            #print(length,longest,ind,position,trigger)\n",
    "    return position\n",
    "print(replace_zero([1,1,1,0,1,1,0,1,1,1]))\n",
    "\n",
    "#,1,0,1,1,1"
   ]
  },
  {
   "cell_type": "code",
   "execution_count": 100,
   "metadata": {
    "collapsed": false
   },
   "outputs": [
    {
     "name": "stdout",
     "output_type": "stream",
     "text": [
      "6\n"
     ]
    }
   ],
   "source": [
    "def replace_zero(arr):\n",
    "    length=0\n",
    "    longest=0\n",
    "    trigger=0\n",
    "    ind=-1\n",
    "    position=0\n",
    "    for i,k in enumerate(arr):\n",
    "        if k==1:\n",
    "            length+=1\n",
    "            if length>=longest:\n",
    "                longest=length\n",
    "                position=ind\n",
    "            #print(length,longest,ind,position,trigger)        \n",
    "        if k==0 and trigger==0:\n",
    "            length+=1\n",
    "            #longest=length\n",
    "            trigger=1\n",
    "            ind=i\n",
    "            position=i\n",
    "            #print(length,longest,ind,position,trigger)   \n",
    "        if k==0 and trigger==1:\n",
    "            if length>=longest:\n",
    "                longest=length\n",
    "                position=ind\n",
    "            length=i-ind\n",
    "            ind=i\n",
    "            #print(length,longest,ind,position,trigger)\n",
    "    return position\n",
    "print(replace_zero([1,1,1,0,1,1,0,1,1,1]))\n",
    "\n",
    "#,1,0,1,1,1"
   ]
  },
  {
   "cell_type": "code",
   "execution_count": 101,
   "metadata": {
    "collapsed": false
   },
   "outputs": [
    {
     "name": "stdout",
     "output_type": "stream",
     "text": [
      "6\n"
     ]
    }
   ],
   "source": [
    "def replace_zero(arr):\n",
    "    chain_length = 0\n",
    "    longest_chain_length = 0\n",
    "    is_first_zero = True\n",
    "    last_zero_ind = None\n",
    "    best_zero_ind =None\n",
    "    for i, k in enumerate(arr):\n",
    "        # If k is 1, increase chain_length, update longest length if applicable\n",
    "        if k == 1:\n",
    "            chain_length += 1\n",
    "            if chain_length >= longest_chain_length:\n",
    "                longest_chain_length = chain_length\n",
    "                best_zero_ind = last_zero_ind\n",
    "        else:\n",
    "            assert k == 0\n",
    "            if is_first_zero:\n",
    "                is_first_zero = False\n",
    "                chain_length += 1\n",
    "                best_zero_ind = i\n",
    "            else:\n",
    "                if chain_length >= longest_chain_length:\n",
    "                    longest_chain_length = chain_length\n",
    "                    best_zero_ind = last_zero_ind\n",
    "                chain_length = i - last_zero_ind\n",
    "            last_zero_ind = i\n",
    "\n",
    "        # else, k is 0,\n",
    "        #    if first 0, keep increasing chain length\n",
    "        #    else\n",
    "        #      (at the beginning, chain_length=6;)\n",
    "        #      update longest_chain_length and position to the last 0 if A.\n",
    "        #      update chain_length to what begins with the last 0 (chain legnth 3)\n",
    "    return best_zero_ind\n",
    "\n",
    "print(replace_zero([1,1,1,0,1,1,0,1,1,1]))\n",
    "\n",
    "#,1,0,1,1,1"
   ]
  },
  {
   "cell_type": "code",
   "execution_count": null,
   "metadata": {
    "collapsed": true
   },
   "outputs": [],
   "source": [
    "def replace_zero(arr):\n",
    "    chain_length = 0\n",
    "    longest_chain_length = 0\n",
    "    is_first_zero = True\n",
    "    last_zero_ind = None\n",
    "    best_zero_ind =None\n",
    "    for i, k in enumerate(arr):\n",
    "        # If k is 1, increase chain_length, update longest length if applicable\n",
    "        if k == 1:\n",
    "            chain_length += 1\n",
    "            if chain_length >= longest_chain_length:\n",
    "                longest_chain_length = chain_length\n",
    "                best_zero_ind = last_zero_ind\n",
    "        else:\n",
    "            assert k == 0\n",
    "            if is_first_zero:\n",
    "                is_first_zero = False\n",
    "                chain_length += 1\n",
    "                best_zero_ind = i\n",
    "                longest_chain_length = chain_length\n",
    "            else:\n",
    "                if chain_length >= longest_chain_length:\n",
    "                    longest_chain_length = chain_length\n",
    "                    best_zero_ind = last_zero_ind\n",
    "                chain_length = i - last_zero_ind\n",
    "            last_zero_ind = i\n",
    "\n",
    "        # else, k is 0,\n",
    "        #    if first 0, keep increasing chain length\n",
    "        #    else\n",
    "        #      (at the beginning, chain_length=6;)\n",
    "        #      update longest_chain_length and position to the last 0 if A.\n",
    "        #      update chain_length to what begins with the last 0 (chain legnth 3)\n",
    "    return best_zero_ind\n",
    "\n",
    "print(replace_zero([1,1,1,0,1,1,0,1,1,1]))\n",
    "\n",
    "#,1,0,1,1,1"
   ]
  },
  {
   "cell_type": "code",
   "execution_count": null,
   "metadata": {
    "collapsed": true
   },
   "outputs": [],
   "source": [
    "def replace_zero(arr):\n",
    "    prev_chain = 0\n",
    "    next_chain = 0\n",
    "    longest_chain = -1\n",
    "    best_pos = None\n",
    "    for i, k in enumerate(arr):\n",
    "        if k:\n",
    "            next_chain += 1\n",
    "        else:\n",
    "            chain_len = prev_chain + next_chain\n",
    "            if chain_len >= longest_chain:\n",
    "                best_pos = i - next_chain - 1\n",
    "                longest_chain = chain_len\n",
    "            prev_chain = next_chain\n",
    "            next_chain = 0\n",
    "    \n",
    "    chain_len = prev_chain + next_chain\n",
    "    if chain_len >= longest_chain:\n",
    "        best_pos = len(arr) - next_chain - 1\n",
    "    return best_pos"
   ]
  },
  {
   "cell_type": "code",
   "execution_count": null,
   "metadata": {
    "collapsed": true
   },
   "outputs": [],
   "source": []
  }
 ],
 "metadata": {
  "anaconda-cloud": {},
  "kernelspec": {
   "display_name": "Python [default]",
   "language": "python",
   "name": "python2"
  },
  "language_info": {
   "codemirror_mode": {
    "name": "ipython",
    "version": 2
   },
   "file_extension": ".py",
   "mimetype": "text/x-python",
   "name": "python",
   "nbconvert_exporter": "python",
   "pygments_lexer": "ipython2",
   "version": "2.7.12"
  }
 },
 "nbformat": 4,
 "nbformat_minor": 1
}
