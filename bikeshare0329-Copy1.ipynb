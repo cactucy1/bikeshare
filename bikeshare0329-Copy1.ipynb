{
 "cells": [
  {
   "cell_type": "code",
   "execution_count": 1,
   "metadata": {
    "collapsed": false,
    "deletable": true,
    "editable": true
   },
   "outputs": [
    {
     "name": "stdout",
     "output_type": "stream",
     "text": [
      "Using matplotlib backend: MacOSX\n",
      "Populating the interactive namespace from numpy and matplotlib\n"
     ]
    },
    {
     "name": "stderr",
     "output_type": "stream",
     "text": [
      "/Users/wayuan/anaconda/lib/python2.7/site-packages/IPython/core/magics/pylab.py:161: UserWarning: pylab import has clobbered these variables: ['plt']\n",
      "`%matplotlib` prevents importing * from pylab and numpy\n",
      "  \"\\n`%matplotlib` prevents importing * from pylab and numpy\"\n"
     ]
    }
   ],
   "source": [
    "import numpy as np\n",
    "import collections\n",
    "import csv\n",
    "import pandas\n",
    "\n",
    "import matplotlib.cm\n",
    "\n",
    "import matplotlib.pylab as plt\n",
    " \n",
    "from mpl_toolkits.basemap import Basemap\n",
    "from matplotlib.patches import Polygon\n",
    "from matplotlib.collections import PatchCollection\n",
    "from matplotlib.colors import Normalize\n",
    "\n",
    "from IPython.display import display, HTML\n",
    "%pylab --no-import-all\n",
    "%matplotlib inline\n",
    "\n",
    "\n",
    "fordgobike_csv=\"2017-fordgobike-tripdata.csv\""
   ]
  },
  {
   "cell_type": "markdown",
   "metadata": {},
   "source": [
    "# Load and Format Data"
   ]
  },
  {
   "cell_type": "code",
   "execution_count": 2,
   "metadata": {
    "collapsed": false
   },
   "outputs": [],
   "source": [
    "\n",
    "dtypes={\n",
    "    'duration_sec': 'float',\n",
    "    'start_time': 'str',\n",
    "    'end_time': 'str',\n",
    "    'start_station_id': 'int',\n",
    "    'start_station_name': 'str',\n",
    "    'start_station_latitude': 'float',\n",
    "    'start_station_longitude': 'float',\n",
    "    'end_station_id': 'int',\n",
    "    'end_station_name': 'str',\n",
    "    'end_station_latitude': 'float',\n",
    "    'end_station_longitude': 'float',\n",
    "    'bike_id': 'int',\n",
    "    'user_type': 'str',\n",
    "    'member_birth_year': 'float',\n",
    "    'member_gender': 'str'\n",
    "}\n",
    "\n",
    "parse_dates=['start_time', 'end_time']\n",
    "data=pandas.read_csv(fordgobike_csv, dtype=dtypes, parse_dates=parse_dates)"
   ]
  },
  {
   "cell_type": "code",
   "execution_count": 3,
   "metadata": {
    "collapsed": false
   },
   "outputs": [],
   "source": [
    "# dayofweek is interger, weekday_name is string\n",
    "# 0 is Monday, 6 is Sunday\n",
    "data['start_day_of_week']=data['start_time'].dt.dayofweek\n",
    "data['start_time_of_day']=data['start_time'].dt.time\n",
    "data['end_day_of_week']=data['end_time'].dt.dayofweek\n",
    "data['end_time_of_day']=data['end_time'].dt.time"
   ]
  },
  {
   "cell_type": "markdown",
   "metadata": {},
   "source": [
    "# Understand Data about Bike Stations and Trips"
   ]
  },
  {
   "cell_type": "code",
   "execution_count": 4,
   "metadata": {
    "collapsed": false
   },
   "outputs": [
    {
     "name": "stdout",
     "output_type": "stream",
     "text": [
      "Number of stations:  272\n",
      "Number of bikes:  3673\n",
      "Number of trips:  519700\n"
     ]
    },
    {
     "data": {
      "image/png": "[encoded data removed]",
      "text/plain": [
       "<matplotlib.figure.Figure at 0x104430490>"
      ]
     },
     "metadata": {},
     "output_type": "display_data"
    }
   ],
   "source": [
    "station_ids=set(data['start_station_id'])|set(data['end_station_id'])\n",
    "bike_ids=set(data['bike_id'])\n",
    "\n",
    "stations={}\n",
    "print 'Number of stations: ', len(station_ids)\n",
    "print 'Number of bikes: ', len(bike_ids)\n",
    "print 'Number of trips: ', data.shape[0]\n",
    "\n",
    "for _, row in data.iterrows():\n",
    "  sid=row['start_station_id']\n",
    "  if sid not in stations:\n",
    "    lat=row['start_station_latitude']\n",
    "    log=row['start_station_longitude']\n",
    "    stations[sid]=[lat, log]\n",
    "  sid=row['end_station_id']\n",
    "  if sid not in stations:\n",
    "    lat=row['end_station_latitude']\n",
    "    log=row['end_station_longitude']\n",
    "    stations[sid]=[lat, log]\n",
    "\n",
    "station_array=[]\n",
    "for sid, pos in stations.iteritems():\n",
    "  station_array.append([sid, pos[0], pos[1]])\n",
    "station_array=np.array(station_array)\n",
    "\n",
    "plt.scatter(station_array[:, 1], station_array[:, 2])\n",
    "plt.title('Locations of All Stations')\n",
    "plt.show()"
   ]
  },
  {
   "cell_type": "markdown",
   "metadata": {},
   "source": [
    "## Cluster the Bike Stations"
   ]
  },
  {
   "cell_type": "code",
   "execution_count": 5,
   "metadata": {
    "collapsed": false
   },
   "outputs": [],
   "source": [
    "from sklearn.cluster import KMeans\n",
    "\n",
    "num_clusters=3\n",
    "kmeans=KMeans(n_clusters=num_clusters, n_init=3, random_state=0).fit(station_array[:, 1:])\n",
    "kmeans.cluster_centers_\n",
    "\n",
    "station_clusters=[station_array[kmeans.labels_==c] for c in xrange(num_clusters)]\n",
    "station_array=numpy.concatenate([station_array, numpy.expand_dims(kmeans.labels_, -1).astype(float)], axis=1)"
   ]
  },
  {
   "cell_type": "code",
   "execution_count": 6,
   "metadata": {
    "collapsed": false
   },
   "outputs": [
    {
     "name": "stdout",
     "output_type": "stream",
     "text": [
      "68 out of 519700 trips are cross-regional.\n",
      "# of trips per cluster are [18260, 90067, 411305]\n"
     ]
    }
   ],
   "source": [
    "import collections\n",
    "\n",
    "cluster2stations=collections.defaultdict(list)\n",
    "station2cluster={}\n",
    "for s in xrange(station_array.shape[0]):\n",
    "  cluster2stations[station_array[s, 3]].append(station_array[s, 0])\n",
    "  station2cluster[station_array[s, 0]]=station_array[s, 3]\n",
    "\n",
    "cross_region_trips=0\n",
    "trips_in_cluster=collections.defaultdict(lambda: 0)\n",
    "for _, row in data.iterrows():\n",
    "  if station2cluster[row['start_station_id']] !=station2cluster[row['end_station_id']]:\n",
    "    cross_region_trips+=1\n",
    "  else:\n",
    "    trips_in_cluster[station2cluster[row['start_station_id']]]+=1\n",
    "\n",
    "print '%d out of %d trips are cross-regional.' % (cross_region_trips, data.shape[0])\n",
    "print '# of trips per cluster are %s' % trips_in_cluster.values()"
   ]
  },
  {
   "cell_type": "markdown",
   "metadata": {},
   "source": [
    "## Show Stations in Each Region"
   ]
  },
  {
   "cell_type": "code",
   "execution_count": 7,
   "metadata": {
    "collapsed": false
   },
   "outputs": [],
   "source": [
    "def bbox(station_array):\n",
    "  bbox=[\n",
    "      numpy.min(station_array[:, 1]),\n",
    "      numpy.max(station_array[:, 1]),\n",
    "      numpy.min(station_array[:, 2]),\n",
    "      numpy.max(station_array[:, 2]),\n",
    "  ]\n",
    "  return bbox\n",
    "\n",
    "def plot_map(bbox, resolution='i', draw=True):\n",
    "    center_lat=(bbox[0]+bbox[1])*0.5\n",
    "    center_log=(bbox[2]+bbox[3])*0.5\n",
    "    fig, ax=plt.subplots(figsize=(5,5))\n",
    "    m=Basemap(resolution=resolution, # c, l, i, h, f or None\n",
    "                projection='merc',\n",
    "                lat_0=center_lat, lon_0=center_log,\n",
    "                llcrnrlon=bbox[2], llcrnrlat=bbox[0], urcrnrlon=bbox[3], urcrnrlat=bbox[1])\n",
    "    if draw:\n",
    "      m.drawmapboundary(fill_color='#46bcec')\n",
    "      m.drawcoastlines()\n",
    "      m.fillcontinents(color='#f2f2f2',lake_color='#46bcec', zorder=0)\n",
    "    return m\n",
    "\n",
    "from datetime import date, datetime, time\n",
    "\n",
    "def diff_time(start_time, end_time):\n",
    "  return (datetime.combine(date.min, end_time)-datetime.combine(date.min, start_time)).total_seconds()"
   ]
  },
  {
   "cell_type": "code",
   "execution_count": 8,
   "metadata": {
    "collapsed": false
   },
   "outputs": [
    {
     "data": {
      "image/png": "[encoded data removed]",
      "text/plain": [
       "<matplotlib.figure.Figure at 0x137198c10>"
      ]
     },
     "metadata": {},
     "output_type": "display_data"
    },
    {
     "data": {
      "image/png": "[encoded data removed]",
      "text/plain": [
       "<matplotlib.figure.Figure at 0x137198e10>"
      ]
     },
     "metadata": {},
     "output_type": "display_data"
    },
    {
     "data": {
      "image/png": "[encoded data removed]",
      "text/plain": [
       "<matplotlib.figure.Figure at 0x11dbcded0>"
      ]
     },
     "metadata": {},
     "output_type": "display_data"
    },
    {
     "data": {
      "image/png": "[encoded data removed]",
      "text/plain": [
       "<matplotlib.figure.Figure at 0x11cc0dd10>"
      ]
     },
     "metadata": {},
     "output_type": "display_data"
    },
    {
     "data": {
      "image/png": "[encoded data removed]",
      "text/plain": [
       "<matplotlib.figure.Figure at 0x11fa84490>"
      ]
     },
     "metadata": {},
     "output_type": "display_data"
    }
   ],
   "source": [
    "fig, ax=plt.subplots(figsize=(5,5))\n",
    "m=plot_map(bbox(station_array), 'i')\n",
    "x, y=m(station_array[:, 2], station_array[:, 1])\n",
    "plt.scatter(x, y, 3, marker='o',color='k')\n",
    "plt.show()\n",
    "\n",
    "for c in xrange(num_clusters):\n",
    "  m=plot_map(bbox(station_clusters[c]), 'i')\n",
    "  x, y=m(station_clusters[c][:, 2], station_clusters[c][:, 1])\n",
    "  plt.scatter(x, y, 3, marker='o',color='k')\n",
    "  plt.show()"
   ]
  },
  {
   "cell_type": "markdown",
   "metadata": {},
   "source": [
    "## Understand Trip Duration\n",
    "Most of the trips are under 30 min, and almost all trips are under 1 hour"
   ]
  },
  {
   "cell_type": "code",
   "execution_count": 9,
   "metadata": {
    "collapsed": false
   },
   "outputs": [
    {
     "data": {
      "text/plain": [
       "<matplotlib.axes._subplots.AxesSubplot at 0x139cb4f10>"
      ]
     },
     "execution_count": 9,
     "metadata": {},
     "output_type": "execute_result"
    },
    {
     "data": {
      "image/png": "[encoded data removed]",
      "text/plain": [
       "<matplotlib.figure.Figure at 0x139cb4850>"
      ]
     },
     "metadata": {},
     "output_type": "display_data"
    }
   ],
   "source": [
    "data['duration_sec'].hist(bins=200)"
   ]
  },
  {
   "cell_type": "markdown",
   "metadata": {},
   "source": [
    "## Prepare Data for Further Time-Sequence Analysis"
   ]
  },
  {
   "cell_type": "code",
   "execution_count": null,
   "metadata": {
    "collapsed": false
   },
   "outputs": [],
   "source": [
    "class time_slot_station:\n",
    "    def __init__(self, num_bins, start_bin=0, end_bin=None):\n",
    "        self._start_bin=start_bin\n",
    "        self._end_bin=end_bin if end_bin else num_bins\n",
    "        self._takens=numpy.zeros((self._end_bin-start_bin,))\n",
    "        self._returns=numpy.zeros((self._end_bin-start_bin,))\n",
    "        \n",
    "    def take(self, time_bin):\n",
    "        if time_bin<self._start_bin or time_bin>=self._end_bin:\n",
    "            return\n",
    "        self._takens[time_bin-self._start_bin]+=1\n",
    "        \n",
    "    def Return(self, time_bin):\n",
    "        if time_bin<self._start_bin or time_bin>=self._end_bin:\n",
    "            return\n",
    "        self._returns[time_bin-self._start_bin]+=1\n",
    "        \n",
    "    def NumtakensAt(self, time_bin):\n",
    "        if time_bin<self._start_bin or time_bin>=self._end_bin:\n",
    "            return\n",
    "        return self._takens[time_bin-self._start_bin]\n",
    "    \n",
    "    def num_returns_at(self, time_bin):\n",
    "        if time_bin<self._start_bin or time_bin>=self._end_bin:\n",
    "            return\n",
    "        return self._returns[time_bin-self._start_bin]\n",
    "    \n",
    "    def takens(self):\n",
    "        return self._takens\n",
    "    \n",
    "    def Returns(self):\n",
    "        return self._returns\n",
    "\n",
    "class time_slot_trip:\n",
    "    def __init__(self, num_bins):\n",
    "        self.count=numpy.zeros((num_bins,))\n",
    "\n",
    "def time_to_bin(time_of_day, interval):\n",
    "    begin_of_day=time()\n",
    "    bin_id=int(diff_time(begin_of_day, time_of_day)/interval)\n",
    "    return bin_id\n",
    "\n",
    "def aggregate_by_time_slots(data, num_bins_per_day, start_bin=0, end_bin=None):\n",
    "    interval=3600*24/num_bins_per_day\n",
    "    station_events=collections.defaultdict(\n",
    "        lambda: collections.defaultdict(lambda: time_slot_station(num_bins_per_day, start_bin, end_bin)))\n",
    "    trip_events=collections.defaultdict(\n",
    "        lambda: collections.defaultdict(lambda: time_slot_trip(num_bins_per_day)))\n",
    "\n",
    "    for _, row in data.iterrows():\n",
    "        start_sid=row['start_station_id']\n",
    "        end_sid=row['end_station_id']\n",
    "        start_day_of_week=row['start_day_of_week']\n",
    "        end_day_of_week=row['end_day_of_week']\n",
    "\n",
    "        time_bin=time_to_bin(row['start_time_of_day'], interval)\n",
    "        station_events[start_day_of_week][start_sid].take(time_bin)\n",
    "        time_bin=time_to_bin(row['end_time_of_day'], interval)\n",
    "        station_events[end_day_of_week][end_sid].Return(time_bin)\n",
    "        trip_events[start_sid][end_sid].count[time_bin]+=1\n",
    "\n",
    "    return station_events, trip_events"
   ]
  },
  {
   "cell_type": "code",
   "execution_count": null,
   "metadata": {
    "collapsed": false
   },
   "outputs": [],
   "source": [
    "station_events, trip_events=aggregate_by_time_slots(data, 48)"
   ]
  },
  {
   "cell_type": "markdown",
   "metadata": {},
   "source": [
    "## Get Intuitation about How Bikes are taken and returned."
   ]
  },
  {
   "cell_type": "code",
   "execution_count": null,
   "metadata": {
    "collapsed": false,
    "scrolled": false
   },
   "outputs": [],
   "source": [
    "from matplotlib import cm\n",
    "from ipywidgets import interact, interactive, fixed, interact_manual\n",
    "import ipywidgets as widgets\n",
    "\n",
    "time_bin=22\n",
    "\n",
    "\n",
    "def update_stations(time_bin, region, dayofweek, max_number):\n",
    "    \n",
    "    m=plot_map(bbox(station_clusters[region]), 'l', draw=False)\n",
    "    sids=station_clusters[region][:, 0]\n",
    "    taken_rate=numpy.array(\n",
    "          [station_events[dayofweek][sid].NumtakensAt(time_bin) -\n",
    "           station_events[dayofweek][sid].num_returns_at(time_bin)\n",
    "           for sid in sids])\n",
    "    x, y=m(station_clusters[region][:, 2],\n",
    "             station_clusters[region][:, 1])\n",
    "    sc=plt.scatter(x, y, 100, marker='o', c=taken_rate, cmap=cm.jet,\n",
    "                     vmin=-max_number, vmax=max_number)\n",
    "    plt.colorbar(sc)\n",
    "    plt.show()\n",
    "    print \"Hour of the day: \", interval*(time_bin+0.5)/3600.0\n",
    "\n",
    "interact(update_stations,\n",
    "         time_bin=widgets.IntSlider(min=0,max=num_bins_per_day-1,step=1,value=10),\n",
    "         region=widgets.IntSlider(min=0,max=2,step=1,value=0),\n",
    "         dayofweek=widgets.IntSlider(min=0,max=6,step=1,value=0),\n",
    "         max_number=widgets.IntSlider(min=10,max=60,step=10,value=50));\n"
   ]
  },
  {
   "cell_type": "code",
   "execution_count": null,
   "metadata": {
    "collapsed": false
   },
   "outputs": [],
   "source": [
    "for day, day_events in station_events.iteritems():\n",
    "  for sid, stats in day_events.iteritems():\n",
    "    plt.plot(stats.takens())\n",
    "    plt.plot(-stats.returns())"
   ]
  },
  {
   "cell_type": "markdown",
   "metadata": {},
   "source": [
    "## Group Trips in Coarser Granularity Accordingly to Reduce Dimentionality"
   ]
  },
  {
   "cell_type": "code",
   "execution_count": null,
   "metadata": {
    "collapsed": false
   },
   "outputs": [],
   "source": [
    "station_events, trip_events=aggregate_by_time_slots(data, 12, start_bin=3, end_bin=11)\n",
    "#station_events, trip_events=aggregate_by_time_slots(data, 48)"
   ]
  },
  {
   "cell_type": "code",
   "execution_count": null,
   "metadata": {
    "collapsed": false
   },
   "outputs": [],
   "source": [
    "time_series=[]\n",
    "for day_of_week, day_stats in station_events.iteritems():\n",
    "    for sid, stats in day_stats.iteritems():\n",
    "        time_series.append(numpy.concatenate([stats.takens(), -stats.returns()]))\n",
    "time_series=numpy.array(time_series)\n",
    "print time_series.shape"
   ]
  },
  {
   "cell_type": "code",
   "execution_count": null,
   "metadata": {
    "collapsed": false
   },
   "outputs": [],
   "source": [
    "u, s, v=numpy.linalg.svd(time_series, full_matrices=0, compute_uv=1)\n",
    "count=4\n",
    "for i in xrange(4):\n",
    "  plt.plot(v[i, :], color=cm.gray(float(i)/count*0.75))\n",
    "plt.show()"
   ]
  },
  {
   "cell_type": "code",
   "execution_count": null,
   "metadata": {
    "collapsed": false
   },
   "outputs": [],
   "source": [
    "u, s, v=numpy.linalg.svd(time_series, full_matrices=0, compute_uv=1)\n",
    "count=4\n",
    "for i in xrange(4):\n",
    "  plt.plot(v[i, :], color=cm.gray(float(i)/count*0.75))\n",
    "plt.show()"
   ]
  },
  {
   "cell_type": "markdown",
   "metadata": {},
   "source": [
    "## Can the bikes be restored at each station?"
   ]
  },
  {
   "cell_type": "markdown",
   "metadata": {},
   "source": [
    "## What are the typical usages patterns for each station?"
   ]
  },
  {
   "cell_type": "markdown",
   "metadata": {},
   "source": [
    "## What is a good time to move bikes around, how many and from where to where?"
   ]
  },
  {
   "cell_type": "markdown",
   "metadata": {},
   "source": [
    "## Are there useless stations?"
   ]
  },
  {
   "cell_type": "code",
   "execution_count": null,
   "metadata": {
    "collapsed": false
   },
   "outputs": [],
   "source": [
    "usages=collections.defaultdict(lambda: 0)\n",
    "for day_of_week, day_stats in station_events.iteritems():\n",
    "    for sid, stats in day_stats.iteritems():\n",
    "        usages[sid]+=numpy.sum(stats.takens())+numpy.sum(stats.returns())\n",
    "usage_array=numpy.array(usages.values())\n",
    "usage_array.sort()\n",
    "plt.plot(usage_array)"
   ]
  },
  {
   "cell_type": "code",
   "execution_count": null,
   "metadata": {
    "collapsed": true
   },
   "outputs": [],
   "source": []
  },
  {
   "cell_type": "code",
   "execution_count": null,
   "metadata": {
    "collapsed": false,
    "deletable": true,
    "editable": true,
    "scrolled": false
   },
   "outputs": [],
   "source": [
    "f=open(fordgobike_csv,\"r\")\n",
    "data=list(csv.reader(f))\n",
    "header=data[0]\n",
    "data=data[1:]\n",
    "print(header)\n",
    "print(data[1])"
   ]
  },
  {
   "cell_type": "code",
   "execution_count": null,
   "metadata": {
    "collapsed": false,
    "deletable": true,
    "editable": true
   },
   "outputs": [],
   "source": [
    "def column_unique(data, index):\n",
    "    column_unique={}\n",
    "    for row in data:\n",
    "        if row[index] in column_unique:\n",
    "            column_unique[row[index]]+=1\n",
    "        else:\n",
    "            column_unique[row[index]]=1\n",
    "    return column_unique\n",
    "bike_id_unique=column_unique(data,11)\n",
    "print(len(bike_id_unique))\n",
    "print(len(data))\n",
    "gender_unique=column_unique(data,14)\n",
    "print(gender_unique)\n",
    "birthyear_unique=column_unique(data,13)\n",
    "age_list={}\n",
    "for i,k in birthyear_unique.iteritems():\n",
    "    try:\n",
    "        age=2018-int(i)\n",
    "    except:\n",
    "        continue\n",
    "    age_list[age]=k\n",
    "\n",
    "import matplotlib.pylab as plt\n",
    "plt.plot(*zip(*sorted(age_list.items())))\n",
    "plt.show()\n"
   ]
  },
  {
   "cell_type": "markdown",
   "metadata": {
    "deletable": true,
    "editable": true
   },
   "source": [
    "plt.bar(range(len(age_list)), list(age_list.values()), align='center')\n",
    "plt.xticks(range(len(age_list)), list(age_list.keys()))\n",
    "\n",
    "plt.show()"
   ]
  },
  {
   "cell_type": "code",
   "execution_count": null,
   "metadata": {
    "collapsed": false,
    "deletable": true,
    "editable": true
   },
   "outputs": [],
   "source": [
    "import matplotlib.cm\n",
    "\n",
    "import matplotlib.pylab as plt\n",
    " \n",
    "from mpl_toolkits.basemap import Basemap\n",
    "from matplotlib.patches import Polygon\n",
    "from matplotlib.collections import PatchCollection\n",
    "from matplotlib.colors import Normalize\n",
    "\n",
    "fig, ax=plt.subplots(figsize=(10,10))\n",
    "\n",
    "m=Basemap(resolution='i', # c, l, i, h, f or None\n",
    "            projection='merc',\n",
    "            lat_0=37.75, lon_0=-122.1,\n",
    "            llcrnrlon=-122.5, llcrnrlat=37.3, urcrnrlon=-121.7, urcrnrlat=37.9)\n",
    "m.scatter(x, y, 3, marker='o',color='k')\n",
    "m.drawmapboundary(fill_color='#46bcec')\n",
    "m.drawcoastlines()\n",
    "x, y=m(station_array[:, 2], station_array[:, 1])\n",
    "m.fillcontinents(color='#f2f2f2',lake_color='#46bcec', alpha=0.5)\n",
    "plt.show()"
   ]
  },
  {
   "cell_type": "code",
   "execution_count": null,
   "metadata": {
    "collapsed": true,
    "deletable": true,
    "editable": true
   },
   "outputs": [],
   "source": [
    "feedbacks=pandas.read_csv(fordgobike_csv)\n",
    "for _, row in feedbacks.iterrows():\n",
    "      match_id=row['match_id']\n",
    "      week_id=row['week_id']\n",
    "      meeting_id='%d_%d' % (week_id, match_id)\n",
    "      matches[meeting_id][row['user_id']]={\n",
    "          'rating': row['rating'],\n",
    "          'reason': row['reason'],\n",
    "          'week': week_id,\n",
    "          'meeting_id': match_id\n",
    "      }"
   ]
  },
  {
   "cell_type": "code",
   "execution_count": null,
   "metadata": {
    "collapsed": true,
    "deletable": true,
    "editable": true
   },
   "outputs": [],
   "source": []
  }
 ],
 "metadata": {
  "anaconda-cloud": {},
  "kernelspec": {
   "display_name": "Python [default]",
   "language": "python",
   "name": "python2"
  },
  "language_info": {
   "codemirror_mode": {
    "name": "ipython",
    "version": 2
   },
   "file_extension": ".py",
   "mimetype": "text/x-python",
   "name": "python",
   "nbconvert_exporter": "python",
   "pygments_lexer": "ipython2",
   "version": "2.7.12"
  }
 },
 "nbformat": 4,
 "nbformat_minor": 1
}
